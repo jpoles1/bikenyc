{
 "cells": [
  {
   "cell_type": "code",
   "execution_count": 1,
   "metadata": {
    "collapsed": false
   },
   "outputs": [],
   "source": [
    "import json\n",
    "from urllib.request import urlopen\n",
    "import numpy as np\n",
    "import pandas as pd\n",
    "import seaborn as sb\n",
    "%matplotlib inline"
   ]
  },
  {
   "cell_type": "code",
   "execution_count": 2,
   "metadata": {
    "collapsed": false
   },
   "outputs": [
    {
     "name": "stdout",
     "output_type": "stream",
     "text": [
      "Fetchin' data from: https://data.cityofnewyork.us/resource/qiz3-axqb.csv?$select=date,time,latitude,longitude,borough,cross_street_name,on_street_name,off_street_name,number_of_cyclist_injured,number_of_cyclist_killed,number_of_pedestrians_injured,number_of_pedestrians_killed,contributing_factor_vehicle_1,contributing_factor_vehicle_2,vehicle_type_code1,vehicle_type_code2,unique_key&$where=number_of_cyclist_injured>0%20or%20number_of_cyclist_killed>0&$limit=5000000\n"
     ]
    }
   ],
   "source": [
    "api_url = \"https://data.cityofnewyork.us/resource/qiz3-axqb.csv?\"\n",
    "field_list = [\n",
    "    \"date,time,\",\n",
    "    \"latitude,longitude,\",\n",
    "    \"borough,cross_street_name,on_street_name,off_street_name,\",\n",
    "    \"number_of_cyclist_injured,number_of_cyclist_killed,\",\n",
    "    \"number_of_pedestrians_injured,number_of_pedestrians_killed,\",\n",
    "    \"contributing_factor_vehicle_1,contributing_factor_vehicle_2,\",\n",
    "    \"vehicle_type_code1,vehicle_type_code2,\",\n",
    "    \"unique_key\",\n",
    "]\n",
    "api_parts = [\n",
    "    api_url, \n",
    "    \"$select=\"+\"\".join(field_list), \n",
    "    \"&$where=number_of_cyclist_injured>0%20or%20number_of_cyclist_killed>0\",\n",
    "    \"&$limit=5000000\"]\n",
    "full_url = \"\".join(api_parts)\n",
    "print(\"Fetchin' data from:\", full_url)\n",
    "raw_data = pd.read_csv(full_url)"
   ]
  },
  {
   "cell_type": "code",
   "execution_count": 3,
   "metadata": {
    "collapsed": false
   },
   "outputs": [
    {
     "data": {
      "text/html": [
       "<div>\n",
       "<table border=\"1\" class=\"dataframe\">\n",
       "  <thead>\n",
       "    <tr style=\"text-align: right;\">\n",
       "      <th></th>\n",
       "      <th>borough</th>\n",
       "      <th>contributing_factor_vehicle_1</th>\n",
       "      <th>contributing_factor_vehicle_2</th>\n",
       "      <th>cross_street_name</th>\n",
       "      <th>date</th>\n",
       "      <th>latitude</th>\n",
       "      <th>longitude</th>\n",
       "      <th>number_of_cyclist_injured</th>\n",
       "      <th>number_of_cyclist_killed</th>\n",
       "      <th>number_of_pedestrians_injured</th>\n",
       "      <th>number_of_pedestrians_killed</th>\n",
       "      <th>off_street_name</th>\n",
       "      <th>on_street_name</th>\n",
       "      <th>time</th>\n",
       "      <th>unique_key</th>\n",
       "      <th>vehicle_type_code1</th>\n",
       "      <th>vehicle_type_code2</th>\n",
       "    </tr>\n",
       "  </thead>\n",
       "  <tbody>\n",
       "    <tr>\n",
       "      <th>1</th>\n",
       "      <td>MANHATTAN</td>\n",
       "      <td>Driver Inattention/Distraction</td>\n",
       "      <td>Unspecified</td>\n",
       "      <td>NaN</td>\n",
       "      <td>2017-03-20T00:00:00.000</td>\n",
       "      <td>40.71436</td>\n",
       "      <td>-74.00839</td>\n",
       "      <td>1</td>\n",
       "      <td>0</td>\n",
       "      <td>0</td>\n",
       "      <td>0</td>\n",
       "      <td>WARREN STREET</td>\n",
       "      <td>CHURCH STREET</td>\n",
       "      <td>13:00</td>\n",
       "      <td>3635630</td>\n",
       "      <td>SPORT UTILITY / STATION WAGON</td>\n",
       "      <td>BICYCLE</td>\n",
       "    </tr>\n",
       "    <tr>\n",
       "      <th>2</th>\n",
       "      <td>BRONX</td>\n",
       "      <td>Unsafe Lane Changing</td>\n",
       "      <td>NaN</td>\n",
       "      <td>NaN</td>\n",
       "      <td>2017-03-20T00:00:00.000</td>\n",
       "      <td>40.81162</td>\n",
       "      <td>-73.93117</td>\n",
       "      <td>1</td>\n",
       "      <td>0</td>\n",
       "      <td>0</td>\n",
       "      <td>0</td>\n",
       "      <td>EAST 135 STREET</td>\n",
       "      <td>PARK AVENUE</td>\n",
       "      <td>8:45</td>\n",
       "      <td>3635736</td>\n",
       "      <td>BICYCLE</td>\n",
       "      <td>NaN</td>\n",
       "    </tr>\n",
       "    <tr>\n",
       "      <th>3</th>\n",
       "      <td>NaN</td>\n",
       "      <td>Failure to Yield Right-of-Way</td>\n",
       "      <td>Unspecified</td>\n",
       "      <td>NaN</td>\n",
       "      <td>2017-03-20T00:00:00.000</td>\n",
       "      <td>NaN</td>\n",
       "      <td>NaN</td>\n",
       "      <td>1</td>\n",
       "      <td>0</td>\n",
       "      <td>0</td>\n",
       "      <td>0</td>\n",
       "      <td>NaN</td>\n",
       "      <td>101 AVENUE</td>\n",
       "      <td>7:05</td>\n",
       "      <td>3635863</td>\n",
       "      <td>BICYCLE</td>\n",
       "      <td>SPORT UTILITY / STATION WAGON</td>\n",
       "    </tr>\n",
       "    <tr>\n",
       "      <th>4</th>\n",
       "      <td>BROOKLYN</td>\n",
       "      <td>Failure to Yield Right-of-Way</td>\n",
       "      <td>Unspecified</td>\n",
       "      <td>NaN</td>\n",
       "      <td>2017-03-20T00:00:00.000</td>\n",
       "      <td>40.71076</td>\n",
       "      <td>-73.95314</td>\n",
       "      <td>1</td>\n",
       "      <td>0</td>\n",
       "      <td>0</td>\n",
       "      <td>0</td>\n",
       "      <td>SOUTH 1 STREET</td>\n",
       "      <td>BORINQUEN PLACE</td>\n",
       "      <td>17:00</td>\n",
       "      <td>3635931</td>\n",
       "      <td>SPORT UTILITY / STATION WAGON</td>\n",
       "      <td>BICYCLE</td>\n",
       "    </tr>\n",
       "  </tbody>\n",
       "</table>\n",
       "</div>"
      ],
      "text/plain": [
       "     borough   contributing_factor_vehicle_1 contributing_factor_vehicle_2  \\\n",
       "1  MANHATTAN  Driver Inattention/Distraction                   Unspecified   \n",
       "2      BRONX            Unsafe Lane Changing                           NaN   \n",
       "3        NaN   Failure to Yield Right-of-Way                   Unspecified   \n",
       "4   BROOKLYN   Failure to Yield Right-of-Way                   Unspecified   \n",
       "\n",
       "  cross_street_name                     date  latitude  longitude  \\\n",
       "1               NaN  2017-03-20T00:00:00.000  40.71436  -74.00839   \n",
       "2               NaN  2017-03-20T00:00:00.000  40.81162  -73.93117   \n",
       "3               NaN  2017-03-20T00:00:00.000       NaN        NaN   \n",
       "4               NaN  2017-03-20T00:00:00.000  40.71076  -73.95314   \n",
       "\n",
       "   number_of_cyclist_injured  number_of_cyclist_killed  \\\n",
       "1                          1                         0   \n",
       "2                          1                         0   \n",
       "3                          1                         0   \n",
       "4                          1                         0   \n",
       "\n",
       "   number_of_pedestrians_injured  number_of_pedestrians_killed  \\\n",
       "1                              0                             0   \n",
       "2                              0                             0   \n",
       "3                              0                             0   \n",
       "4                              0                             0   \n",
       "\n",
       "   off_street_name                    on_street_name   time  unique_key  \\\n",
       "1    WARREN STREET  CHURCH STREET                     13:00     3635630   \n",
       "2  EAST 135 STREET  PARK AVENUE                        8:45     3635736   \n",
       "3              NaN  101 AVENUE                         7:05     3635863   \n",
       "4   SOUTH 1 STREET  BORINQUEN PLACE                   17:00     3635931   \n",
       "\n",
       "              vehicle_type_code1             vehicle_type_code2  \n",
       "1  SPORT UTILITY / STATION WAGON                        BICYCLE  \n",
       "2                        BICYCLE                            NaN  \n",
       "3                        BICYCLE  SPORT UTILITY / STATION WAGON  \n",
       "4  SPORT UTILITY / STATION WAGON                        BICYCLE  "
      ]
     },
     "execution_count": 3,
     "metadata": {},
     "output_type": "execute_result"
    }
   ],
   "source": [
    "raw_data[1:5]"
   ]
  },
  {
   "cell_type": "code",
   "execution_count": 4,
   "metadata": {
    "collapsed": false
   },
   "outputs": [],
   "source": [
    "clean_data = raw_data.copy()\n",
    "clean_data[\"date\"] = clean_data[\"date\"].astype(\"datetime64\")\n",
    "clean_data[\"time\"] = pd.to_datetime(clean_data[\"time\"])\n",
    "clean_data[\"time\"] = clean_data[\"time\"].dt.hour + clean_data[\"time\"].dt.minute/60"
   ]
  },
  {
   "cell_type": "code",
   "execution_count": 5,
   "metadata": {
    "collapsed": false
   },
   "outputs": [
    {
     "name": "stderr",
     "output_type": "stream",
     "text": [
      "/usr/local/lib/python3.5/dist-packages/matplotlib/__init__.py:878: UserWarning: axes.color_cycle is deprecated and replaced with axes.prop_cycle; please use the latter.\n",
      "  warnings.warn(self.msg_depr % (key, alt_key))\n"
     ]
    },
    {
     "data": {
      "image/png": "[encoded data removed]",
      "text/plain": [
       "<matplotlib.figure.Figure at 0x7f0453194780>"
      ]
     },
     "metadata": {},
     "output_type": "display_data"
    },
    {
     "data": {
      "text/plain": [
       "<ggplot: (-9223363308285072654)>"
      ]
     },
     "execution_count": 5,
     "metadata": {},
     "output_type": "execute_result"
    }
   ],
   "source": [
    "from ggplot import *\n",
    "ggplot(aes(x='time'), data=clean_data) + geom_histogram(binwidth=1) + xlim(0,24)"
   ]
  },
  {
   "cell_type": "code",
   "execution_count": 6,
   "metadata": {
    "collapsed": false
   },
   "outputs": [
    {
     "data": {
      "text/plain": [
       "<matplotlib.axes._subplots.AxesSubplot at 0x7f0453011438>"
      ]
     },
     "execution_count": 6,
     "metadata": {},
     "output_type": "execute_result"
    },
    {
     "data": {
      "image/png": "[encoded data removed]",
      "text/plain": [
       "<matplotlib.figure.Figure at 0x7f0452ff7c50>"
      ]
     },
     "metadata": {},
     "output_type": "display_data"
    }
   ],
   "source": [
    "clean_data.groupby([clean_data[\"date\"].dt.year, clean_data[\"date\"].dt.month])[\"date\"].count().plot(kind=\"bar\", figsize=(16,10))"
   ]
  }
 ],
 "metadata": {
  "kernelspec": {
   "display_name": "Python 3",
   "language": "python",
   "name": "python3"
  },
  "language_info": {
   "codemirror_mode": {
    "name": "ipython",
    "version": 3
   },
   "file_extension": ".py",
   "mimetype": "text/x-python",
   "name": "python",
   "nbconvert_exporter": "python",
   "pygments_lexer": "ipython3",
   "version": "3.5.2"
  }
 },
 "nbformat": 4,
 "nbformat_minor": 2
}
